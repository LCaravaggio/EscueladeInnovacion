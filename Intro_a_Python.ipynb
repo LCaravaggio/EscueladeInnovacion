{
  "nbformat": 4,
  "nbformat_minor": 0,
  "metadata": {
    "colab": {
      "provenance": [],
      "authorship_tag": "ABX9TyNkIIGypbUSAs/UA8to2acM",
      "include_colab_link": true
    },
    "kernelspec": {
      "name": "python3",
      "display_name": "Python 3"
    },
    "language_info": {
      "name": "python"
    }
  },
  "cells": [
    {
      "cell_type": "markdown",
      "metadata": {
        "id": "view-in-github",
        "colab_type": "text"
      },
      "source": [
        "<a href=\"https://colab.research.google.com/github/LCaravaggio/EscueladeInnovacion/blob/main/Intro_a_Python.ipynb\" target=\"_parent\"><img src=\"https://colab.research.google.com/assets/colab-badge.svg\" alt=\"Open In Colab\"/></a>"
      ]
    },
    {
      "cell_type": "markdown",
      "source": [
        "#### F-strings"
      ],
      "metadata": {
        "id": "GXDwJg1AooEI"
      }
    },
    {
      "cell_type": "code",
      "execution_count": 1,
      "metadata": {
        "id": "EynVkwofgLUj",
        "colab": {
          "base_uri": "https://localhost:8080/"
        },
        "outputId": "bf20c968-0edc-41bb-9ba6-900f7e1a0c21"
      },
      "outputs": [
        {
          "output_type": "stream",
          "name": "stdout",
          "text": [
            "Hola, Leonardo Caravaggio!\n"
          ]
        }
      ],
      "source": [
        "first_name = \"leonardo\"\n",
        "last_name = \"caravaggio\"\n",
        "full_name = f\"{first_name} {last_name}\"\n",
        "message = f\"Hola, {full_name.title()}!\"\n",
        "print(message)"
      ]
    },
    {
      "cell_type": "markdown",
      "source": [
        "#### \\n"
      ],
      "metadata": {
        "id": "W-5IfRsiq6tx"
      }
    },
    {
      "cell_type": "code",
      "source": [
        "print(\"Leonardo \\nCaravaggio\")"
      ],
      "metadata": {
        "colab": {
          "base_uri": "https://localhost:8080/"
        },
        "id": "nadWFo0cq9f6",
        "outputId": "5614aa0a-76cc-49cc-a2ba-251e9577b9f4"
      },
      "execution_count": 2,
      "outputs": [
        {
          "output_type": "stream",
          "name": "stdout",
          "text": [
            "Leonardo \n",
            "Caravaggio\n"
          ]
        }
      ]
    },
    {
      "cell_type": "markdown",
      "source": [
        "#### Operaciones matemáticas básicas"
      ],
      "metadata": {
        "id": "ryq4NsBKtYP3"
      }
    },
    {
      "cell_type": "code",
      "source": [
        "2+3"
      ],
      "metadata": {
        "colab": {
          "base_uri": "https://localhost:8080/"
        },
        "id": "5CioiF3wtI_S",
        "outputId": "6887c45a-83cd-4280-ef2b-87eda4d35454"
      },
      "execution_count": 3,
      "outputs": [
        {
          "output_type": "execute_result",
          "data": {
            "text/plain": [
              "5"
            ]
          },
          "metadata": {},
          "execution_count": 3
        }
      ]
    },
    {
      "cell_type": "code",
      "source": [
        "3-2"
      ],
      "metadata": {
        "colab": {
          "base_uri": "https://localhost:8080/"
        },
        "id": "OooroxjLtKp6",
        "outputId": "57f84748-3268-4ce7-e913-0726a2f36777"
      },
      "execution_count": 4,
      "outputs": [
        {
          "output_type": "execute_result",
          "data": {
            "text/plain": [
              "1"
            ]
          },
          "metadata": {},
          "execution_count": 4
        }
      ]
    },
    {
      "cell_type": "code",
      "source": [
        "3*2"
      ],
      "metadata": {
        "colab": {
          "base_uri": "https://localhost:8080/"
        },
        "id": "D2lIjjpztNAQ",
        "outputId": "c2e7e5a7-9bfa-44b3-be0c-8db3c015d430"
      },
      "execution_count": 5,
      "outputs": [
        {
          "output_type": "execute_result",
          "data": {
            "text/plain": [
              "6"
            ]
          },
          "metadata": {},
          "execution_count": 5
        }
      ]
    },
    {
      "cell_type": "code",
      "source": [
        "6/2"
      ],
      "metadata": {
        "colab": {
          "base_uri": "https://localhost:8080/"
        },
        "id": "UEmZ2h2otPat",
        "outputId": "ee931498-86f5-4ff3-e4e7-a9332e632905"
      },
      "execution_count": 6,
      "outputs": [
        {
          "output_type": "execute_result",
          "data": {
            "text/plain": [
              "3.0"
            ]
          },
          "metadata": {},
          "execution_count": 6
        }
      ]
    },
    {
      "cell_type": "code",
      "source": [
        "3**2"
      ],
      "metadata": {
        "colab": {
          "base_uri": "https://localhost:8080/"
        },
        "id": "KCMnyvIrtTVi",
        "outputId": "edede48a-7593-4fe8-b725-4e31c7856ed0"
      },
      "execution_count": 7,
      "outputs": [
        {
          "output_type": "execute_result",
          "data": {
            "text/plain": [
              "9"
            ]
          },
          "metadata": {},
          "execution_count": 7
        }
      ]
    },
    {
      "cell_type": "markdown",
      "source": [
        "#### Listas"
      ],
      "metadata": {
        "id": "bN1S8bWiusus"
      }
    },
    {
      "cell_type": "code",
      "source": [
        "motorcycles = ['honda', 'yamaha', 'suzuki']"
      ],
      "metadata": {
        "id": "8YpKk81_ut2G"
      },
      "execution_count": 8,
      "outputs": []
    },
    {
      "cell_type": "code",
      "source": [
        "motorcycles.append('ducati')"
      ],
      "metadata": {
        "id": "blSqc6eDuv37"
      },
      "execution_count": 9,
      "outputs": []
    },
    {
      "cell_type": "code",
      "source": [
        "motorcycles.remove('honda')"
      ],
      "metadata": {
        "id": "4RE8k_K0uz2t"
      },
      "execution_count": 10,
      "outputs": []
    },
    {
      "cell_type": "code",
      "source": [
        "motorcycles"
      ],
      "metadata": {
        "colab": {
          "base_uri": "https://localhost:8080/"
        },
        "id": "skGZN0qju3uW",
        "outputId": "56317ec7-c0d4-4ba1-88bd-3aa207a9a15f"
      },
      "execution_count": 11,
      "outputs": [
        {
          "output_type": "execute_result",
          "data": {
            "text/plain": [
              "['yamaha', 'suzuki', 'ducati']"
            ]
          },
          "metadata": {},
          "execution_count": 11
        }
      ]
    },
    {
      "cell_type": "markdown",
      "source": [
        "#### For Loop"
      ],
      "metadata": {
        "id": "npf4xQdzzysU"
      }
    },
    {
      "cell_type": "code",
      "source": [
        "languages=['Python', 'C', 'C++', 'Java', 'C#', 'Visual Basic', '.NET', 'JavaScript', 'SQL']"
      ],
      "metadata": {
        "id": "7-AV65O9z0XV"
      },
      "execution_count": 12,
      "outputs": []
    },
    {
      "cell_type": "code",
      "source": [
        "for language in languages:\n",
        "  print(language)"
      ],
      "metadata": {
        "colab": {
          "base_uri": "https://localhost:8080/"
        },
        "id": "t-cQFgY30Nk5",
        "outputId": "ceb99474-9230-43e8-d56f-418e2cb4f420"
      },
      "execution_count": 13,
      "outputs": [
        {
          "output_type": "stream",
          "name": "stdout",
          "text": [
            "Python\n",
            "C\n",
            "C++\n",
            "Java\n",
            "C#\n",
            "Visual Basic\n",
            ".NET\n",
            "JavaScript\n",
            "SQL\n"
          ]
        }
      ]
    },
    {
      "cell_type": "code",
      "source": [
        "for language in languages:\n",
        "  print(f\"{language} es un buen lenguaje de programación.\")"
      ],
      "metadata": {
        "colab": {
          "base_uri": "https://localhost:8080/"
        },
        "id": "QlcYBIIT0suD",
        "outputId": "445389f6-a2b7-4a4d-fec2-1557f6f92eed"
      },
      "execution_count": 14,
      "outputs": [
        {
          "output_type": "stream",
          "name": "stdout",
          "text": [
            "Python es un buen lenguaje de programación.\n",
            "C es un buen lenguaje de programación.\n",
            "C++ es un buen lenguaje de programación.\n",
            "Java es un buen lenguaje de programación.\n",
            "C# es un buen lenguaje de programación.\n",
            "Visual Basic es un buen lenguaje de programación.\n",
            ".NET es un buen lenguaje de programación.\n",
            "JavaScript es un buen lenguaje de programación.\n",
            "SQL es un buen lenguaje de programación.\n"
          ]
        }
      ]
    },
    {
      "cell_type": "code",
      "source": [
        "for x in range(1,10,2):\n",
        "  print(x)"
      ],
      "metadata": {
        "colab": {
          "base_uri": "https://localhost:8080/"
        },
        "id": "U-tffMd3219J",
        "outputId": "fb24d5c1-9397-4664-fb3d-865e7c9a5eae"
      },
      "execution_count": 15,
      "outputs": [
        {
          "output_type": "stream",
          "name": "stdout",
          "text": [
            "1\n",
            "3\n",
            "5\n",
            "7\n",
            "9\n"
          ]
        }
      ]
    },
    {
      "cell_type": "markdown",
      "source": [
        "#### IF Statment"
      ],
      "metadata": {
        "id": "7iCZoal035An"
      }
    },
    {
      "cell_type": "code",
      "source": [
        "car='bmw'"
      ],
      "metadata": {
        "id": "SE6Ajw7D4pBd"
      },
      "execution_count": 16,
      "outputs": []
    },
    {
      "cell_type": "code",
      "source": [
        "car=='bmw'"
      ],
      "metadata": {
        "colab": {
          "base_uri": "https://localhost:8080/"
        },
        "id": "NZXRmTeC4skr",
        "outputId": "7131c6cb-6d4e-48cd-ab2b-69ecdf548a09"
      },
      "execution_count": 17,
      "outputs": [
        {
          "output_type": "execute_result",
          "data": {
            "text/plain": [
              "True"
            ]
          },
          "metadata": {},
          "execution_count": 17
        }
      ]
    },
    {
      "cell_type": "code",
      "source": [
        "car!='bmw'"
      ],
      "metadata": {
        "colab": {
          "base_uri": "https://localhost:8080/"
        },
        "id": "A-iYffkR5Eid",
        "outputId": "5871368e-8f3e-462d-a2bb-8948dea4822c"
      },
      "execution_count": 18,
      "outputs": [
        {
          "output_type": "execute_result",
          "data": {
            "text/plain": [
              "False"
            ]
          },
          "metadata": {},
          "execution_count": 18
        }
      ]
    },
    {
      "cell_type": "code",
      "source": [
        "edad=18\n",
        "edad>6 and edad<20"
      ],
      "metadata": {
        "colab": {
          "base_uri": "https://localhost:8080/"
        },
        "id": "ysfwl_4R5y75",
        "outputId": "531e2741-5ce0-4b7a-a9fb-3c0498de5bfd"
      },
      "execution_count": 19,
      "outputs": [
        {
          "output_type": "execute_result",
          "data": {
            "text/plain": [
              "True"
            ]
          },
          "metadata": {},
          "execution_count": 19
        }
      ]
    },
    {
      "cell_type": "code",
      "source": [
        "edad=18\n",
        "edad<6 or edad>80"
      ],
      "metadata": {
        "colab": {
          "base_uri": "https://localhost:8080/"
        },
        "id": "RKDjaInm6BRM",
        "outputId": "691fb1bb-c678-41b3-a21a-b14846a75ce2"
      },
      "execution_count": 20,
      "outputs": [
        {
          "output_type": "execute_result",
          "data": {
            "text/plain": [
              "False"
            ]
          },
          "metadata": {},
          "execution_count": 20
        }
      ]
    },
    {
      "cell_type": "code",
      "source": [
        "'Python' in languages"
      ],
      "metadata": {
        "colab": {
          "base_uri": "https://localhost:8080/"
        },
        "id": "hcI0jlgA6WA0",
        "outputId": "bbe30818-c477-4a78-f815-91655b14c37e"
      },
      "execution_count": 21,
      "outputs": [
        {
          "output_type": "execute_result",
          "data": {
            "text/plain": [
              "True"
            ]
          },
          "metadata": {},
          "execution_count": 21
        }
      ]
    },
    {
      "cell_type": "code",
      "source": [
        "cars = ['audi', 'bmw', 'subaru', 'toyota']\n",
        "for car in cars:\n",
        "  if car == 'bmw':\n",
        "    print(car.upper())\n",
        "  else:\n",
        "    print(car.title())"
      ],
      "metadata": {
        "colab": {
          "base_uri": "https://localhost:8080/"
        },
        "id": "s_l1P5TD34YT",
        "outputId": "4c9b6c94-46e9-43c5-bfed-752846b71ca6"
      },
      "execution_count": 22,
      "outputs": [
        {
          "output_type": "stream",
          "name": "stdout",
          "text": [
            "Audi\n",
            "BMW\n",
            "Subaru\n",
            "Toyota\n"
          ]
        }
      ]
    },
    {
      "cell_type": "code",
      "source": [
        "age = 12\n",
        "if age < 4:\n",
        "  price = 0\n",
        "elif age < 18:\n",
        "  price = 25\n",
        "elif age < 65:\n",
        "  price = 40\n",
        "elif age >= 65:\n",
        "  price = 20\n",
        "\n",
        "print(f\"La entrada cuesta ${price}.\")"
      ],
      "metadata": {
        "colab": {
          "base_uri": "https://localhost:8080/"
        },
        "id": "_NyKKtAt5DeB",
        "outputId": "219a70d6-778a-4f61-bf23-b24286496236"
      },
      "execution_count": 23,
      "outputs": [
        {
          "output_type": "stream",
          "name": "stdout",
          "text": [
            "La entrada cuesta $25.\n"
          ]
        }
      ]
    },
    {
      "cell_type": "code",
      "source": [
        "favorite_languages = {\n",
        "       'jen': ['python', 'ruby'],\n",
        "       'sarah': ['c'],\n",
        "       'edward': ['ruby', 'go'],\n",
        "       'phil': ['python', 'haskell'],\n",
        "       }\n",
        "for name, languages in favorite_languages.items():\n",
        "  print(f\"\\n{name.title()}'s favorite languages are:\")\n",
        "  for language in languages:\n",
        "    print(f\"\\t{language.title()}\")"
      ],
      "metadata": {
        "colab": {
          "base_uri": "https://localhost:8080/"
        },
        "id": "5iKSFkmj9OY_",
        "outputId": "2e2957ef-9139-4ac1-dd29-a9dc3bf08052"
      },
      "execution_count": 24,
      "outputs": [
        {
          "output_type": "stream",
          "name": "stdout",
          "text": [
            "\n",
            "Jen's favorite languages are:\n",
            "\tPython\n",
            "\tRuby\n",
            "\n",
            "Sarah's favorite languages are:\n",
            "\tC\n",
            "\n",
            "Edward's favorite languages are:\n",
            "\tRuby\n",
            "\tGo\n",
            "\n",
            "Phil's favorite languages are:\n",
            "\tPython\n",
            "\tHaskell\n"
          ]
        }
      ]
    },
    {
      "cell_type": "markdown",
      "source": [
        "#### While"
      ],
      "metadata": {
        "id": "xqN91Wtx-UEE"
      }
    },
    {
      "cell_type": "code",
      "source": [
        "current_number = 1\n",
        "while current_number <= 5:\n",
        "    print(current_number)\n",
        "    current_number += 1"
      ],
      "metadata": {
        "colab": {
          "base_uri": "https://localhost:8080/"
        },
        "id": "aN18vN-4-NWZ",
        "outputId": "c50914fc-5fcb-452f-ece4-405d84dbb8a7"
      },
      "execution_count": 25,
      "outputs": [
        {
          "output_type": "stream",
          "name": "stdout",
          "text": [
            "1\n",
            "2\n",
            "3\n",
            "4\n",
            "5\n"
          ]
        }
      ]
    },
    {
      "cell_type": "markdown",
      "source": [
        "#### Funciones"
      ],
      "metadata": {
        "id": "OJezIMqF_IRC"
      }
    },
    {
      "cell_type": "code",
      "source": [
        "def fun():\n",
        "  print(\"Esto es una función\")"
      ],
      "metadata": {
        "id": "JMLzIG-e_LBU"
      },
      "execution_count": 26,
      "outputs": []
    },
    {
      "cell_type": "code",
      "source": [
        "fun()"
      ],
      "metadata": {
        "colab": {
          "base_uri": "https://localhost:8080/"
        },
        "id": "TgAF2G4o_daF",
        "outputId": "ddbc4fd5-82c7-48d7-c255-8c2ee9f76e79"
      },
      "execution_count": 27,
      "outputs": [
        {
          "output_type": "stream",
          "name": "stdout",
          "text": [
            "Esto es una función\n"
          ]
        }
      ]
    },
    {
      "cell_type": "code",
      "source": [
        "def fun(nombre):\n",
        "  print(f\"Tu nombre es {nombre}\")"
      ],
      "metadata": {
        "id": "NolthEsvAVKc"
      },
      "execution_count": 28,
      "outputs": []
    },
    {
      "cell_type": "code",
      "source": [
        "fun('Leonardo')"
      ],
      "metadata": {
        "colab": {
          "base_uri": "https://localhost:8080/"
        },
        "id": "r1M5Rak1AbMN",
        "outputId": "6f65eb74-b605-4e09-d219-21350668f5ed"
      },
      "execution_count": 29,
      "outputs": [
        {
          "output_type": "stream",
          "name": "stdout",
          "text": [
            "Tu nombre es Leonardo\n"
          ]
        }
      ]
    },
    {
      "cell_type": "code",
      "source": [
        "fun('Juan')"
      ],
      "metadata": {
        "colab": {
          "base_uri": "https://localhost:8080/"
        },
        "id": "rFRl4CHSAtzw",
        "outputId": "185650db-9a38-434f-a719-d0e2267c4177"
      },
      "execution_count": 30,
      "outputs": [
        {
          "output_type": "stream",
          "name": "stdout",
          "text": [
            "Tu nombre es Juan\n"
          ]
        }
      ]
    },
    {
      "cell_type": "code",
      "source": [
        "def fun(nombre, apellido):\n",
        "  print(f\"Tu nombre es {nombre.title()} {apellido.title()}\")"
      ],
      "metadata": {
        "id": "If6nEpMRCpkg"
      },
      "execution_count": 31,
      "outputs": []
    },
    {
      "cell_type": "code",
      "source": [
        "fun('leonardo', 'caravaggio')"
      ],
      "metadata": {
        "colab": {
          "base_uri": "https://localhost:8080/"
        },
        "id": "8GWrKBBBCvww",
        "outputId": "aa1f5b79-8dfd-4688-895a-f906ad733acd"
      },
      "execution_count": 32,
      "outputs": [
        {
          "output_type": "stream",
          "name": "stdout",
          "text": [
            "Tu nombre es Leonardo Caravaggio\n"
          ]
        }
      ]
    },
    {
      "cell_type": "code",
      "source": [
        "fun('caravaggio', 'leonardo')"
      ],
      "metadata": {
        "colab": {
          "base_uri": "https://localhost:8080/"
        },
        "id": "I4sX5-ahDA7w",
        "outputId": "0f89f8f4-f9ef-43e3-f91f-f71e30fdb552"
      },
      "execution_count": 33,
      "outputs": [
        {
          "output_type": "stream",
          "name": "stdout",
          "text": [
            "Tu nombre es Caravaggio Leonardo\n"
          ]
        }
      ]
    },
    {
      "cell_type": "code",
      "source": [
        "fun(apellido='caravaggio', nombre='leonardo')"
      ],
      "metadata": {
        "colab": {
          "base_uri": "https://localhost:8080/"
        },
        "id": "i3Udz_rLGji9",
        "outputId": "1200e5d6-1384-45f4-b327-53cfc3ea33cc"
      },
      "execution_count": 34,
      "outputs": [
        {
          "output_type": "stream",
          "name": "stdout",
          "text": [
            "Tu nombre es Leonardo Caravaggio\n"
          ]
        }
      ]
    },
    {
      "cell_type": "code",
      "source": [
        "def fun(nombre='Leonardo'):\n",
        "  print(f\"Tu nombre es {nombre}\")"
      ],
      "metadata": {
        "id": "A99XgxeOGz1J"
      },
      "execution_count": 35,
      "outputs": []
    },
    {
      "cell_type": "code",
      "source": [
        "fun('Juan')"
      ],
      "metadata": {
        "colab": {
          "base_uri": "https://localhost:8080/"
        },
        "id": "NBDfgZUIG-_q",
        "outputId": "390136fa-8d6c-48f4-cb59-e11ece397d4e"
      },
      "execution_count": 36,
      "outputs": [
        {
          "output_type": "stream",
          "name": "stdout",
          "text": [
            "Tu nombre es Juan\n"
          ]
        }
      ]
    },
    {
      "cell_type": "code",
      "source": [
        "fun()"
      ],
      "metadata": {
        "colab": {
          "base_uri": "https://localhost:8080/"
        },
        "id": "Gb3XOKpXHBZZ",
        "outputId": "d014dce9-330f-48e9-bf26-e153dedab568"
      },
      "execution_count": 37,
      "outputs": [
        {
          "output_type": "stream",
          "name": "stdout",
          "text": [
            "Tu nombre es Leonardo\n"
          ]
        }
      ]
    },
    {
      "cell_type": "code",
      "source": [
        "def fun(nombre='Leonardo'):\n",
        "  return(f\"Tu nombre es {nombre}\")"
      ],
      "metadata": {
        "id": "aOaIubPrHWje"
      },
      "execution_count": 38,
      "outputs": []
    },
    {
      "cell_type": "code",
      "source": [
        "print(fun())"
      ],
      "metadata": {
        "colab": {
          "base_uri": "https://localhost:8080/"
        },
        "id": "6ltiWQi7HZfk",
        "outputId": "3b0d451a-1a11-46f4-8155-28ac3f1c06ab"
      },
      "execution_count": 39,
      "outputs": [
        {
          "output_type": "stream",
          "name": "stdout",
          "text": [
            "Tu nombre es Leonardo\n"
          ]
        }
      ]
    },
    {
      "cell_type": "code",
      "source": [
        "# Parámetro optativo\n",
        "def fun(nombre, apellido, segundo_nombre=''):\n",
        "  print(f\"Tu nombre es {nombre.title()} {segundo_nombre.title()} {apellido.title()}\")"
      ],
      "metadata": {
        "id": "hFrGjiX2HtnS"
      },
      "execution_count": 40,
      "outputs": []
    },
    {
      "cell_type": "code",
      "source": [
        "fun('Leonardo', 'Caravaggio')"
      ],
      "metadata": {
        "colab": {
          "base_uri": "https://localhost:8080/"
        },
        "id": "CWMgI3hZH6Wf",
        "outputId": "9c8fc200-d08f-4c4a-9d81-f9590f922500"
      },
      "execution_count": 41,
      "outputs": [
        {
          "output_type": "stream",
          "name": "stdout",
          "text": [
            "Tu nombre es Leonardo  Caravaggio\n"
          ]
        }
      ]
    },
    {
      "cell_type": "code",
      "source": [
        "def fun(*nombres):\n",
        "  for nombre in nombres:\n",
        "    print(nombre)"
      ],
      "metadata": {
        "id": "pwmphbMEJqyv"
      },
      "execution_count": 42,
      "outputs": []
    },
    {
      "cell_type": "code",
      "source": [
        "fun('Leonardo', 'Juan', 'Ana')"
      ],
      "metadata": {
        "colab": {
          "base_uri": "https://localhost:8080/"
        },
        "id": "YHUb1NXqJwa9",
        "outputId": "6a15485e-a6e3-425b-e3c9-3d6d103e9ff6"
      },
      "execution_count": 43,
      "outputs": [
        {
          "output_type": "stream",
          "name": "stdout",
          "text": [
            "Leonardo\n",
            "Juan\n",
            "Ana\n"
          ]
        }
      ]
    },
    {
      "cell_type": "markdown",
      "source": [
        "#### Clases"
      ],
      "metadata": {
        "id": "mUupjzUgkYle"
      }
    },
    {
      "cell_type": "code",
      "source": [
        "class Perro:\n",
        "  \"\"\"Esta clase simula ser un perro\"\"\"\n",
        "\n",
        "  def __init__(self, nombre, edad):\n",
        "    \"\"\"Se inicializan los atributos de la clase\"\"\"\n",
        "    self.nombre = nombre\n",
        "    self.edad = edad\n",
        "\n",
        "  def sentarse(self):\n",
        "    \"\"\"Se crea un método sentarse\"\"\"\n",
        "    print(f\"{self.nombre} se sentó.\")\n",
        "\n",
        "  def dar_la_vuelta(self):\n",
        "    \"\"\"Se crea un método de dar la vuelta\"\"\"\n",
        "    print(f\"{self.nombre} dió la vuelta!\")\n",
        "\n",
        "  def saludar(self):\n",
        "    \"\"\"Se crea un método de dar saludar\"\"\"\n",
        "    print(f\"Buenas tardes! Mi nombre es {self.nombre} y tengo {self.edad} años.\")\n"
      ],
      "metadata": {
        "id": "Cqoyi5ndkZ_U"
      },
      "execution_count": 44,
      "outputs": []
    },
    {
      "cell_type": "code",
      "source": [
        "mi_perro=Perro('Rostov', 5)"
      ],
      "metadata": {
        "id": "ojmqj1Jxmd8f"
      },
      "execution_count": 45,
      "outputs": []
    },
    {
      "cell_type": "code",
      "source": [
        "mi_perro.sentarse()"
      ],
      "metadata": {
        "colab": {
          "base_uri": "https://localhost:8080/"
        },
        "id": "iXOvAZV7n6_r",
        "outputId": "b3394ff9-4516-4eb5-c651-518c0d641ed4"
      },
      "execution_count": 46,
      "outputs": [
        {
          "output_type": "stream",
          "name": "stdout",
          "text": [
            "Rostov se sentó.\n"
          ]
        }
      ]
    },
    {
      "cell_type": "code",
      "source": [
        "mi_perro.saludar()"
      ],
      "metadata": {
        "colab": {
          "base_uri": "https://localhost:8080/"
        },
        "id": "hRmyAGSXoXRC",
        "outputId": "95edd3ae-2549-4db1-803f-210a559de668"
      },
      "execution_count": 47,
      "outputs": [
        {
          "output_type": "stream",
          "name": "stdout",
          "text": [
            "Buenas tardes! Mi nombre es Rostov y tengo 5 años.\n"
          ]
        }
      ]
    },
    {
      "cell_type": "code",
      "source": [
        "mi_perro.edad"
      ],
      "metadata": {
        "colab": {
          "base_uri": "https://localhost:8080/"
        },
        "id": "DYrYYiproz_8",
        "outputId": "7bec6d5e-66c8-4105-f499-872b61211659"
      },
      "execution_count": 48,
      "outputs": [
        {
          "output_type": "execute_result",
          "data": {
            "text/plain": [
              "5"
            ]
          },
          "metadata": {},
          "execution_count": 48
        }
      ]
    },
    {
      "cell_type": "code",
      "source": [
        "mi_perro.edad=6"
      ],
      "metadata": {
        "id": "RYEx3ICpppir"
      },
      "execution_count": 49,
      "outputs": []
    },
    {
      "cell_type": "code",
      "source": [
        "mi_perro.saludar()"
      ],
      "metadata": {
        "colab": {
          "base_uri": "https://localhost:8080/"
        },
        "id": "YJ9Wfgkkpr2U",
        "outputId": "4545680f-4cba-409f-c841-d2675389b151"
      },
      "execution_count": 50,
      "outputs": [
        {
          "output_type": "stream",
          "name": "stdout",
          "text": [
            "Buenas tardes! Mi nombre es Rostov y tengo 6 años.\n"
          ]
        }
      ]
    }
  ]
}