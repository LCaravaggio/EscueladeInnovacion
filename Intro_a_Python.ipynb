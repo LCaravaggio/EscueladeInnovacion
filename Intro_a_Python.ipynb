{
  "nbformat": 4,
  "nbformat_minor": 0,
  "metadata": {
    "colab": {
      "provenance": [],
      "authorship_tag": "ABX9TyMwG7OE1xfapV9AIncPX/CI",
      "include_colab_link": true
    },
    "kernelspec": {
      "name": "python3",
      "display_name": "Python 3"
    },
    "language_info": {
      "name": "python"
    }
  },
  "cells": [
    {
      "cell_type": "markdown",
      "metadata": {
        "id": "view-in-github",
        "colab_type": "text"
      },
      "source": [
        "<a href=\"https://colab.research.google.com/github/LCaravaggio/EscueladeInnovacion/blob/main/Intro_a_Python.ipynb\" target=\"_parent\"><img src=\"https://colab.research.google.com/assets/colab-badge.svg\" alt=\"Open In Colab\"/></a>"
      ]
    },
    {
      "cell_type": "markdown",
      "source": [
        "#### F-strings"
      ],
      "metadata": {
        "id": "GXDwJg1AooEI"
      }
    },
    {
      "cell_type": "code",
      "execution_count": 1,
      "metadata": {
        "id": "EynVkwofgLUj",
        "colab": {
          "base_uri": "https://localhost:8080/"
        },
        "outputId": "8acebe3a-8c15-4b40-9773-8f06b717da5a"
      },
      "outputs": [
        {
          "output_type": "stream",
          "name": "stdout",
          "text": [
            "Hola, Leonardo Caravaggio!\n"
          ]
        }
      ],
      "source": [
        "first_name = \"leonardo\"\n",
        "last_name = \"caravaggio\"\n",
        "full_name = f\"{first_name} {last_name}\"\n",
        "message = f\"Hola, {full_name.title()}!\"\n",
        "print(message)"
      ]
    },
    {
      "cell_type": "markdown",
      "source": [
        "#### \\n"
      ],
      "metadata": {
        "id": "W-5IfRsiq6tx"
      }
    },
    {
      "cell_type": "code",
      "source": [
        "print(\"Leonardo \\nCaravaggio\")"
      ],
      "metadata": {
        "colab": {
          "base_uri": "https://localhost:8080/"
        },
        "id": "nadWFo0cq9f6",
        "outputId": "a26e07c9-73ce-4e74-f39a-1c4378a6013a"
      },
      "execution_count": 2,
      "outputs": [
        {
          "output_type": "stream",
          "name": "stdout",
          "text": [
            "Leonardo \n",
            "Caravaggio\n"
          ]
        }
      ]
    },
    {
      "cell_type": "markdown",
      "source": [
        "#### Operaciones matemáticas básicas"
      ],
      "metadata": {
        "id": "ryq4NsBKtYP3"
      }
    },
    {
      "cell_type": "code",
      "source": [
        "2+3"
      ],
      "metadata": {
        "colab": {
          "base_uri": "https://localhost:8080/"
        },
        "id": "5CioiF3wtI_S",
        "outputId": "238fe1ba-806a-449f-da2f-e64806431c39"
      },
      "execution_count": 3,
      "outputs": [
        {
          "output_type": "execute_result",
          "data": {
            "text/plain": [
              "5"
            ]
          },
          "metadata": {},
          "execution_count": 3
        }
      ]
    },
    {
      "cell_type": "code",
      "source": [
        "3-2"
      ],
      "metadata": {
        "colab": {
          "base_uri": "https://localhost:8080/"
        },
        "id": "OooroxjLtKp6",
        "outputId": "4df2b711-ab4d-4410-d941-16587a972965"
      },
      "execution_count": 4,
      "outputs": [
        {
          "output_type": "execute_result",
          "data": {
            "text/plain": [
              "1"
            ]
          },
          "metadata": {},
          "execution_count": 4
        }
      ]
    },
    {
      "cell_type": "code",
      "source": [
        "3*2"
      ],
      "metadata": {
        "colab": {
          "base_uri": "https://localhost:8080/"
        },
        "id": "D2lIjjpztNAQ",
        "outputId": "412ecf8a-cdb0-403a-fdbe-c7e97d9a9de9"
      },
      "execution_count": 5,
      "outputs": [
        {
          "output_type": "execute_result",
          "data": {
            "text/plain": [
              "6"
            ]
          },
          "metadata": {},
          "execution_count": 5
        }
      ]
    },
    {
      "cell_type": "code",
      "source": [
        "6/2"
      ],
      "metadata": {
        "colab": {
          "base_uri": "https://localhost:8080/"
        },
        "id": "UEmZ2h2otPat",
        "outputId": "4e140a53-48fd-4bc6-9289-c60f4108f6bb"
      },
      "execution_count": 6,
      "outputs": [
        {
          "output_type": "execute_result",
          "data": {
            "text/plain": [
              "3.0"
            ]
          },
          "metadata": {},
          "execution_count": 6
        }
      ]
    },
    {
      "cell_type": "code",
      "source": [
        "3**2"
      ],
      "metadata": {
        "colab": {
          "base_uri": "https://localhost:8080/"
        },
        "id": "KCMnyvIrtTVi",
        "outputId": "c25904f5-da47-46b1-bd14-5bbcbf40d3a6"
      },
      "execution_count": 7,
      "outputs": [
        {
          "output_type": "execute_result",
          "data": {
            "text/plain": [
              "9"
            ]
          },
          "metadata": {},
          "execution_count": 7
        }
      ]
    },
    {
      "cell_type": "markdown",
      "source": [
        "#### Listas"
      ],
      "metadata": {
        "id": "bN1S8bWiusus"
      }
    },
    {
      "cell_type": "code",
      "source": [
        "motorcycles = ['honda', 'yamaha', 'suzuki']"
      ],
      "metadata": {
        "id": "8YpKk81_ut2G"
      },
      "execution_count": 8,
      "outputs": []
    },
    {
      "cell_type": "code",
      "source": [
        "motorcycles.append('ducati')"
      ],
      "metadata": {
        "id": "blSqc6eDuv37"
      },
      "execution_count": 9,
      "outputs": []
    },
    {
      "cell_type": "code",
      "source": [
        "motorcycles.remove('honda')"
      ],
      "metadata": {
        "id": "4RE8k_K0uz2t"
      },
      "execution_count": 10,
      "outputs": []
    },
    {
      "cell_type": "code",
      "source": [
        "motorcycles"
      ],
      "metadata": {
        "colab": {
          "base_uri": "https://localhost:8080/"
        },
        "id": "skGZN0qju3uW",
        "outputId": "8a6b09ca-65fd-474c-aec8-c3412b3208fc"
      },
      "execution_count": 11,
      "outputs": [
        {
          "output_type": "execute_result",
          "data": {
            "text/plain": [
              "['yamaha', 'suzuki', 'ducati']"
            ]
          },
          "metadata": {},
          "execution_count": 11
        }
      ]
    },
    {
      "cell_type": "markdown",
      "source": [
        "#### For Loop"
      ],
      "metadata": {
        "id": "npf4xQdzzysU"
      }
    },
    {
      "cell_type": "code",
      "source": [
        "languages=['Python', 'C', 'C++', 'Java', 'C#', 'Visual Basic', '.NET', 'JavaScript', 'SQL']"
      ],
      "metadata": {
        "id": "7-AV65O9z0XV"
      },
      "execution_count": 12,
      "outputs": []
    },
    {
      "cell_type": "code",
      "source": [
        "for language in languages:\n",
        "  print(language)"
      ],
      "metadata": {
        "colab": {
          "base_uri": "https://localhost:8080/"
        },
        "id": "t-cQFgY30Nk5",
        "outputId": "61e8153d-b468-4cee-a688-ee417493bbb0"
      },
      "execution_count": 13,
      "outputs": [
        {
          "output_type": "stream",
          "name": "stdout",
          "text": [
            "Python\n",
            "C\n",
            "C++\n",
            "Java\n",
            "C#\n",
            "Visual Basic\n",
            ".NET\n",
            "JavaScript\n",
            "SQL\n"
          ]
        }
      ]
    },
    {
      "cell_type": "code",
      "source": [
        "for language in languages:\n",
        "  print(f\"{language} es un buen lenguaje de programación.\")"
      ],
      "metadata": {
        "colab": {
          "base_uri": "https://localhost:8080/"
        },
        "id": "QlcYBIIT0suD",
        "outputId": "f6029ead-5938-4f7f-b868-8d8283edac82"
      },
      "execution_count": 14,
      "outputs": [
        {
          "output_type": "stream",
          "name": "stdout",
          "text": [
            "Python es un buen lenguaje de programación.\n",
            "C es un buen lenguaje de programación.\n",
            "C++ es un buen lenguaje de programación.\n",
            "Java es un buen lenguaje de programación.\n",
            "C# es un buen lenguaje de programación.\n",
            "Visual Basic es un buen lenguaje de programación.\n",
            ".NET es un buen lenguaje de programación.\n",
            "JavaScript es un buen lenguaje de programación.\n",
            "SQL es un buen lenguaje de programación.\n"
          ]
        }
      ]
    },
    {
      "cell_type": "code",
      "source": [
        "for x in range(1,10,2):\n",
        "  print(x)"
      ],
      "metadata": {
        "colab": {
          "base_uri": "https://localhost:8080/"
        },
        "id": "U-tffMd3219J",
        "outputId": "59346ab1-257d-4578-b519-4ad6f045cd8a"
      },
      "execution_count": 15,
      "outputs": [
        {
          "output_type": "stream",
          "name": "stdout",
          "text": [
            "1\n",
            "3\n",
            "5\n",
            "7\n",
            "9\n"
          ]
        }
      ]
    },
    {
      "cell_type": "markdown",
      "source": [
        "#### IF Statment"
      ],
      "metadata": {
        "id": "7iCZoal035An"
      }
    },
    {
      "cell_type": "code",
      "source": [
        "car='bmw'"
      ],
      "metadata": {
        "id": "SE6Ajw7D4pBd"
      },
      "execution_count": 16,
      "outputs": []
    },
    {
      "cell_type": "code",
      "source": [
        "car=='bmw'"
      ],
      "metadata": {
        "colab": {
          "base_uri": "https://localhost:8080/"
        },
        "id": "NZXRmTeC4skr",
        "outputId": "e27cec52-90b7-4db4-d949-76b62c0707a3"
      },
      "execution_count": 17,
      "outputs": [
        {
          "output_type": "execute_result",
          "data": {
            "text/plain": [
              "True"
            ]
          },
          "metadata": {},
          "execution_count": 17
        }
      ]
    },
    {
      "cell_type": "code",
      "source": [
        "car!='bmw'"
      ],
      "metadata": {
        "colab": {
          "base_uri": "https://localhost:8080/"
        },
        "id": "A-iYffkR5Eid",
        "outputId": "8498a30b-8e2b-481b-a8e7-1f52f7cadb35"
      },
      "execution_count": 18,
      "outputs": [
        {
          "output_type": "execute_result",
          "data": {
            "text/plain": [
              "False"
            ]
          },
          "metadata": {},
          "execution_count": 18
        }
      ]
    },
    {
      "cell_type": "code",
      "source": [
        "edad=18\n",
        "edad>6 and edad<20"
      ],
      "metadata": {
        "colab": {
          "base_uri": "https://localhost:8080/"
        },
        "id": "ysfwl_4R5y75",
        "outputId": "bd243747-83be-4446-cec9-471bf3954a8d"
      },
      "execution_count": 19,
      "outputs": [
        {
          "output_type": "execute_result",
          "data": {
            "text/plain": [
              "True"
            ]
          },
          "metadata": {},
          "execution_count": 19
        }
      ]
    },
    {
      "cell_type": "code",
      "source": [
        "edad=18\n",
        "edad<6 or edad>80"
      ],
      "metadata": {
        "colab": {
          "base_uri": "https://localhost:8080/"
        },
        "id": "RKDjaInm6BRM",
        "outputId": "8b8a139c-bdb7-4625-8de7-5732115deacb"
      },
      "execution_count": 20,
      "outputs": [
        {
          "output_type": "execute_result",
          "data": {
            "text/plain": [
              "False"
            ]
          },
          "metadata": {},
          "execution_count": 20
        }
      ]
    },
    {
      "cell_type": "code",
      "source": [
        "'Python' in languages"
      ],
      "metadata": {
        "colab": {
          "base_uri": "https://localhost:8080/"
        },
        "id": "hcI0jlgA6WA0",
        "outputId": "326eaa15-99d7-42b9-a0a8-1fa850aa4245"
      },
      "execution_count": 21,
      "outputs": [
        {
          "output_type": "execute_result",
          "data": {
            "text/plain": [
              "True"
            ]
          },
          "metadata": {},
          "execution_count": 21
        }
      ]
    },
    {
      "cell_type": "code",
      "source": [
        "cars = ['audi', 'bmw', 'subaru', 'toyota']\n",
        "for car in cars:\n",
        "  if car == 'bmw':\n",
        "    print(car.upper())\n",
        "  else:\n",
        "    print(car.title())"
      ],
      "metadata": {
        "colab": {
          "base_uri": "https://localhost:8080/"
        },
        "id": "s_l1P5TD34YT",
        "outputId": "45b6d971-8cd4-4246-be26-3bb6f43a077f"
      },
      "execution_count": 22,
      "outputs": [
        {
          "output_type": "stream",
          "name": "stdout",
          "text": [
            "Audi\n",
            "BMW\n",
            "Subaru\n",
            "Toyota\n"
          ]
        }
      ]
    },
    {
      "cell_type": "code",
      "source": [
        "age = 12\n",
        "if age < 4:\n",
        "  price = 0\n",
        "elif age < 18:\n",
        "  price = 25\n",
        "elif age < 65:\n",
        "  price = 40\n",
        "elif age >= 65:\n",
        "  price = 20\n",
        "\n",
        "print(f\"La entrada cuesta ${price}.\")"
      ],
      "metadata": {
        "colab": {
          "base_uri": "https://localhost:8080/"
        },
        "id": "_NyKKtAt5DeB",
        "outputId": "2bc3de7e-d1f5-4e8b-91d8-ea1a75674875"
      },
      "execution_count": 23,
      "outputs": [
        {
          "output_type": "stream",
          "name": "stdout",
          "text": [
            "La entrada cuesta $25.\n"
          ]
        }
      ]
    },
    {
      "cell_type": "code",
      "source": [
        "favorite_languages = {\n",
        "       'jen': ['python', 'ruby'],\n",
        "       'sarah': ['c'],\n",
        "       'edward': ['ruby', 'go'],\n",
        "       'phil': ['python', 'haskell'],\n",
        "       }\n",
        "for name, languages in favorite_languages.items():\n",
        "  print(f\"\\n{name.title()}'s favorite languages are:\")\n",
        "  for language in languages:\n",
        "    print(f\"\\t{language.title()}\")"
      ],
      "metadata": {
        "colab": {
          "base_uri": "https://localhost:8080/"
        },
        "id": "5iKSFkmj9OY_",
        "outputId": "ddf13479-4ee1-4745-a570-839319229662"
      },
      "execution_count": 24,
      "outputs": [
        {
          "output_type": "stream",
          "name": "stdout",
          "text": [
            "\n",
            "Jen's favorite languages are:\n",
            "\tPython\n",
            "\tRuby\n",
            "\n",
            "Sarah's favorite languages are:\n",
            "\tC\n",
            "\n",
            "Edward's favorite languages are:\n",
            "\tRuby\n",
            "\tGo\n",
            "\n",
            "Phil's favorite languages are:\n",
            "\tPython\n",
            "\tHaskell\n"
          ]
        }
      ]
    },
    {
      "cell_type": "markdown",
      "source": [
        "#### While"
      ],
      "metadata": {
        "id": "xqN91Wtx-UEE"
      }
    },
    {
      "cell_type": "code",
      "source": [
        "current_number = 1\n",
        "while current_number <= 5:\n",
        "    print(current_number)\n",
        "    current_number += 1"
      ],
      "metadata": {
        "colab": {
          "base_uri": "https://localhost:8080/"
        },
        "id": "aN18vN-4-NWZ",
        "outputId": "c7c15c42-535f-492c-c5db-f916d6a6d2d4"
      },
      "execution_count": 25,
      "outputs": [
        {
          "output_type": "stream",
          "name": "stdout",
          "text": [
            "1\n",
            "2\n",
            "3\n",
            "4\n",
            "5\n"
          ]
        }
      ]
    },
    {
      "cell_type": "markdown",
      "source": [
        "#### Funciones"
      ],
      "metadata": {
        "id": "OJezIMqF_IRC"
      }
    },
    {
      "cell_type": "code",
      "source": [
        "def fun():\n",
        "  print(\"Esto es una función\")"
      ],
      "metadata": {
        "id": "JMLzIG-e_LBU"
      },
      "execution_count": 26,
      "outputs": []
    },
    {
      "cell_type": "code",
      "source": [
        "fun()"
      ],
      "metadata": {
        "colab": {
          "base_uri": "https://localhost:8080/"
        },
        "id": "TgAF2G4o_daF",
        "outputId": "482be533-0b30-40f0-c7ba-d9aeea843d11"
      },
      "execution_count": 27,
      "outputs": [
        {
          "output_type": "stream",
          "name": "stdout",
          "text": [
            "Esto es una función\n"
          ]
        }
      ]
    },
    {
      "cell_type": "code",
      "source": [
        "def fun(nombre):\n",
        "  print(f\"Tu nombre es {nombre}\")"
      ],
      "metadata": {
        "id": "NolthEsvAVKc"
      },
      "execution_count": 28,
      "outputs": []
    },
    {
      "cell_type": "code",
      "source": [
        "fun('Leonardo')"
      ],
      "metadata": {
        "colab": {
          "base_uri": "https://localhost:8080/"
        },
        "id": "r1M5Rak1AbMN",
        "outputId": "b17dc90e-fded-4186-a708-5e472a1a1ce9"
      },
      "execution_count": 29,
      "outputs": [
        {
          "output_type": "stream",
          "name": "stdout",
          "text": [
            "Tu nombre es Leonardo\n"
          ]
        }
      ]
    },
    {
      "cell_type": "code",
      "source": [
        "fun('Juan')"
      ],
      "metadata": {
        "colab": {
          "base_uri": "https://localhost:8080/"
        },
        "id": "rFRl4CHSAtzw",
        "outputId": "b85cd8e6-d451-4e84-a24d-70d75164de45"
      },
      "execution_count": 30,
      "outputs": [
        {
          "output_type": "stream",
          "name": "stdout",
          "text": [
            "Tu nombre es Juan\n"
          ]
        }
      ]
    },
    {
      "cell_type": "code",
      "source": [
        "def fun(nombre, apellido):\n",
        "  print(f\"Tu nombre es {nombre.title()} {apellido.title()}\")"
      ],
      "metadata": {
        "id": "If6nEpMRCpkg"
      },
      "execution_count": 31,
      "outputs": []
    },
    {
      "cell_type": "code",
      "source": [
        "fun('leonardo', 'caravaggio')"
      ],
      "metadata": {
        "colab": {
          "base_uri": "https://localhost:8080/"
        },
        "id": "8GWrKBBBCvww",
        "outputId": "a6f4e4d8-1ae8-4816-f07d-982a3fed4980"
      },
      "execution_count": 32,
      "outputs": [
        {
          "output_type": "stream",
          "name": "stdout",
          "text": [
            "Tu nombre es Leonardo Caravaggio\n"
          ]
        }
      ]
    },
    {
      "cell_type": "code",
      "source": [
        "fun('caravaggio', 'leonardo')"
      ],
      "metadata": {
        "colab": {
          "base_uri": "https://localhost:8080/"
        },
        "id": "I4sX5-ahDA7w",
        "outputId": "379fe03f-fbac-45de-e8d8-a323f8a7196d"
      },
      "execution_count": 33,
      "outputs": [
        {
          "output_type": "stream",
          "name": "stdout",
          "text": [
            "Tu nombre es Caravaggio Leonardo\n"
          ]
        }
      ]
    },
    {
      "cell_type": "code",
      "source": [
        "fun(apellido='caravaggio', nombre='leonardo')"
      ],
      "metadata": {
        "colab": {
          "base_uri": "https://localhost:8080/"
        },
        "id": "i3Udz_rLGji9",
        "outputId": "55286ce9-be46-4567-e619-f70116231947"
      },
      "execution_count": 34,
      "outputs": [
        {
          "output_type": "stream",
          "name": "stdout",
          "text": [
            "Tu nombre es Leonardo Caravaggio\n"
          ]
        }
      ]
    },
    {
      "cell_type": "code",
      "source": [
        "def fun(nombre='Leonardo'):\n",
        "  print(f\"Tu nombre es {nombre}\")"
      ],
      "metadata": {
        "id": "A99XgxeOGz1J"
      },
      "execution_count": 35,
      "outputs": []
    },
    {
      "cell_type": "code",
      "source": [
        "fun('Juan')"
      ],
      "metadata": {
        "colab": {
          "base_uri": "https://localhost:8080/"
        },
        "id": "NBDfgZUIG-_q",
        "outputId": "83eba185-c331-4122-b71a-ad7960f175ad"
      },
      "execution_count": 36,
      "outputs": [
        {
          "output_type": "stream",
          "name": "stdout",
          "text": [
            "Tu nombre es Juan\n"
          ]
        }
      ]
    },
    {
      "cell_type": "code",
      "source": [
        "fun()"
      ],
      "metadata": {
        "colab": {
          "base_uri": "https://localhost:8080/"
        },
        "id": "Gb3XOKpXHBZZ",
        "outputId": "aea0cd07-bb41-403c-9b69-9b94ae1b33fd"
      },
      "execution_count": 37,
      "outputs": [
        {
          "output_type": "stream",
          "name": "stdout",
          "text": [
            "Tu nombre es Leonardo\n"
          ]
        }
      ]
    },
    {
      "cell_type": "code",
      "source": [
        "def fun(nombre='Leonardo'):\n",
        "  return(f\"Tu nombre es {nombre}\")"
      ],
      "metadata": {
        "id": "aOaIubPrHWje"
      },
      "execution_count": 39,
      "outputs": []
    },
    {
      "cell_type": "code",
      "source": [
        "print(fun())"
      ],
      "metadata": {
        "colab": {
          "base_uri": "https://localhost:8080/"
        },
        "id": "6ltiWQi7HZfk",
        "outputId": "53950a81-590e-41eb-bc85-6faef7cda38d"
      },
      "execution_count": 40,
      "outputs": [
        {
          "output_type": "stream",
          "name": "stdout",
          "text": [
            "Tu nombre es Leonardo\n"
          ]
        }
      ]
    },
    {
      "cell_type": "code",
      "source": [
        "# Parámetro optativo\n",
        "def fun(nombre, apellido, segundo_nombre=''):\n",
        "  print(f\"Tu nombre es {nombre.title()} {segundo_nombre.title()} {apellido.title()}\")"
      ],
      "metadata": {
        "id": "hFrGjiX2HtnS"
      },
      "execution_count": 42,
      "outputs": []
    },
    {
      "cell_type": "code",
      "source": [
        "fun('Leonardo', 'Caravaggio')"
      ],
      "metadata": {
        "colab": {
          "base_uri": "https://localhost:8080/"
        },
        "id": "CWMgI3hZH6Wf",
        "outputId": "66ffdb9f-8205-4d1f-f869-2c875a389019"
      },
      "execution_count": 44,
      "outputs": [
        {
          "output_type": "stream",
          "name": "stdout",
          "text": [
            "Tu nombre es Leonardo  Caravaggio\n"
          ]
        }
      ]
    },
    {
      "cell_type": "code",
      "source": [
        "def fun(*nombres):\n",
        "  for nombre in nombres:\n",
        "    print(nombre)"
      ],
      "metadata": {
        "id": "pwmphbMEJqyv"
      },
      "execution_count": 45,
      "outputs": []
    },
    {
      "cell_type": "code",
      "source": [
        "fun('Leonardo', 'Juan', 'Ana')"
      ],
      "metadata": {
        "colab": {
          "base_uri": "https://localhost:8080/"
        },
        "id": "YHUb1NXqJwa9",
        "outputId": "6d388c9e-354c-4210-b680-1f03059ef0fc"
      },
      "execution_count": 46,
      "outputs": [
        {
          "output_type": "stream",
          "name": "stdout",
          "text": [
            "Leonardo\n",
            "Juan\n",
            "Ana\n"
          ]
        }
      ]
    }
  ]
}