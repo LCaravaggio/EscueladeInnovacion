{
  "nbformat": 4,
  "nbformat_minor": 0,
  "metadata": {
    "colab": {
      "provenance": [],
      "authorship_tag": "ABX9TyOvnevJuW/C6mqLxx9NC7h/",
      "include_colab_link": true
    },
    "kernelspec": {
      "name": "python3",
      "display_name": "Python 3"
    },
    "language_info": {
      "name": "python"
    }
  },
  "cells": [
    {
      "cell_type": "markdown",
      "metadata": {
        "id": "view-in-github",
        "colab_type": "text"
      },
      "source": [
        "<a href=\"https://colab.research.google.com/github/LCaravaggio/EscueladeInnovacion/blob/main/IMDB.ipynb\" target=\"_parent\"><img src=\"https://colab.research.google.com/assets/colab-badge.svg\" alt=\"Open In Colab\"/></a>"
      ]
    },
    {
      "cell_type": "markdown",
      "source": [
        "Librerías"
      ],
      "metadata": {
        "id": "g5Yb5IIeyd1b"
      }
    },
    {
      "cell_type": "code",
      "execution_count": 1,
      "metadata": {
        "id": "nXzLig7hyKkN"
      },
      "outputs": [],
      "source": [
        "import tensorflow as tf\n",
        "import numpy as np"
      ]
    },
    {
      "cell_type": "markdown",
      "source": [
        "# Dataset\n",
        "\n",
        "El \"IMDB\" es un conjunto de alrededor de 50.000 críticas positivas o negativas de películas de Internet Movie Database. Tomamos de TensorFlow el conjunto de datos de la misma manera que lo hicimos para MNIST. El argumento num_words es cuántas de las palabras más populares conservaremos. Todas las demás palabras \"raras\" serán descartadas."
      ],
      "metadata": {
        "id": "_9b-TEXWyfbR"
      }
    },
    {
      "cell_type": "code",
      "source": [
        "from tensorflow.keras.datasets import imdb\n",
        "from sklearn.model_selection import train_test_split\n",
        "\n",
        "import numpy as np\n",
        "(train_data, train_labels), (test_data, test_labels) = imdb.load_data(num_words=10000)"
      ],
      "metadata": {
        "id": "qeUI7P7JygVL"
      },
      "execution_count": 30,
      "outputs": []
    },
    {
      "cell_type": "markdown",
      "source": [
        "Partimos el dataset en 25mil observaciones para TRAIN"
      ],
      "metadata": {
        "id": "hdXdMLmgzMU4"
      }
    },
    {
      "cell_type": "code",
      "source": [
        "print(train_data.shape)\n",
        "print(train_labels.shape)"
      ],
      "metadata": {
        "colab": {
          "base_uri": "https://localhost:8080/"
        },
        "id": "nLYLJL18zLhR",
        "outputId": "c0081355-d1fc-43b0-abe4-029f75f6cd35"
      },
      "execution_count": 31,
      "outputs": [
        {
          "output_type": "stream",
          "name": "stdout",
          "text": [
            "(25000,)\n",
            "(25000,)\n"
          ]
        }
      ]
    },
    {
      "cell_type": "markdown",
      "source": [
        "El dataset está preprocesado. Cada palabra esta encodeada con un número"
      ],
      "metadata": {
        "id": "p9T_8ktCFiQK"
      }
    },
    {
      "cell_type": "code",
      "source": [
        "print(train_data[0])\n",
        "print(train_labels[0])"
      ],
      "metadata": {
        "colab": {
          "base_uri": "https://localhost:8080/"
        },
        "id": "hFqy1NrXFkYQ",
        "outputId": "51d62a67-14f1-490e-f1bf-f817f2813c6a"
      },
      "execution_count": 32,
      "outputs": [
        {
          "output_type": "stream",
          "name": "stdout",
          "text": [
            "[1, 14, 22, 16, 43, 530, 973, 1622, 1385, 65, 458, 4468, 66, 3941, 4, 173, 36, 256, 5, 25, 100, 43, 838, 112, 50, 670, 2, 9, 35, 480, 284, 5, 150, 4, 172, 112, 167, 2, 336, 385, 39, 4, 172, 4536, 1111, 17, 546, 38, 13, 447, 4, 192, 50, 16, 6, 147, 2025, 19, 14, 22, 4, 1920, 4613, 469, 4, 22, 71, 87, 12, 16, 43, 530, 38, 76, 15, 13, 1247, 4, 22, 17, 515, 17, 12, 16, 626, 18, 2, 5, 62, 386, 12, 8, 316, 8, 106, 5, 4, 2223, 5244, 16, 480, 66, 3785, 33, 4, 130, 12, 16, 38, 619, 5, 25, 124, 51, 36, 135, 48, 25, 1415, 33, 6, 22, 12, 215, 28, 77, 52, 5, 14, 407, 16, 82, 2, 8, 4, 107, 117, 5952, 15, 256, 4, 2, 7, 3766, 5, 723, 36, 71, 43, 530, 476, 26, 400, 317, 46, 7, 4, 2, 1029, 13, 104, 88, 4, 381, 15, 297, 98, 32, 2071, 56, 26, 141, 6, 194, 7486, 18, 4, 226, 22, 21, 134, 476, 26, 480, 5, 144, 30, 5535, 18, 51, 36, 28, 224, 92, 25, 104, 4, 226, 65, 16, 38, 1334, 88, 12, 16, 283, 5, 16, 4472, 113, 103, 32, 15, 16, 5345, 19, 178, 32]\n",
            "1\n"
          ]
        }
      ]
    },
    {
      "cell_type": "code",
      "source": [
        "len(train_data[27])"
      ],
      "metadata": {
        "colab": {
          "base_uri": "https://localhost:8080/"
        },
        "id": "DAWP-_1UHg6m",
        "outputId": "600860e7-7461-44ce-eb7f-c9f4dbcb3415"
      },
      "execution_count": 33,
      "outputs": [
        {
          "output_type": "execute_result",
          "data": {
            "text/plain": [
              "193"
            ]
          },
          "metadata": {},
          "execution_count": 33
        }
      ]
    },
    {
      "cell_type": "code",
      "source": [
        "print(max([max(review) for review in train_data]))"
      ],
      "metadata": {
        "colab": {
          "base_uri": "https://localhost:8080/"
        },
        "id": "IRV-fN3LHnoD",
        "outputId": "f2107a4c-4853-4705-8a91-e58036fa8a37"
      },
      "execution_count": 34,
      "outputs": [
        {
          "output_type": "stream",
          "name": "stdout",
          "text": [
            "9999\n"
          ]
        }
      ]
    },
    {
      "cell_type": "code",
      "source": [
        "word_to_integer = tf.keras.datasets.imdb.get_word_index()\n",
        "\n",
        "# Imprime las primeras 10 palabras del diccionario\n",
        "print(list(word_to_integer.keys())[0:10])\n",
        "\n",
        "integer_to_word = dict([(value, key) for (key, value) in word_to_integer.items()])\n",
        "\n",
        "# Dado un número, imprimir la palabra\n",
        "print(integer_to_word[1])\n",
        "print(integer_to_word[2])\n",
        "\n",
        "# Necesitamos restar 3 del índice porque 0 es \"relleno\", 1 es \"inicio de secuencia\" y 2 es \"desconocido\"\n",
        "decoded_review = ' '.join([integer_to_word.get(i - 3, 'UNK') for i in train_data[0]])\n",
        "print(decoded_review)"
      ],
      "metadata": {
        "colab": {
          "base_uri": "https://localhost:8080/"
        },
        "id": "iY_v2kToFwpE",
        "outputId": "c99352e5-ebba-4841-f8b7-d873e0764642"
      },
      "execution_count": 35,
      "outputs": [
        {
          "output_type": "stream",
          "name": "stdout",
          "text": [
            "['fawn', 'tsukino', 'nunnery', 'sonja', 'vani', 'woods', 'spiders', 'hanging', 'woody', 'trawling']\n",
            "the\n",
            "and\n",
            "UNK this film was just brilliant casting location scenery story direction everyone's really suited the part they played and you could just imagine being there robert UNK is an amazing actor and now the same being director UNK father came from the same scottish island as myself so i loved the fact there was a real connection with this film the witty remarks throughout the film were great it was just brilliant so much that i bought the film as soon as it was released for UNK and would recommend it to everyone to watch and the fly fishing was amazing really cried at the end it was so sad and you know what they say if you cry at a film it must have been good and this definitely was also UNK to the two little boy's that played the UNK of norman and paul they were just brilliant children are often left out of the UNK list i think because the stars that play them all grown up are such a big profile for the whole film but these children are amazing and should be praised for what they have done don't you think the whole story was so lovely because it was true and was someone's life after all that was shared with us all\n"
          ]
        }
      ]
    },
    {
      "cell_type": "markdown",
      "source": [
        "La función vectorize_sequences sirve para convertir una lista de secuencias de palabras (representadas como listas de números enteros) en una matriz de números binarios, donde cada fila de la matriz representa una secuencia y cada columna representa una palabra del vocabulario."
      ],
      "metadata": {
        "id": "TmQulj8CMV0I"
      }
    },
    {
      "cell_type": "code",
      "source": [
        "def vectorize_sequences(sequences, dimension=10000):\n",
        "    # Creamos una matriz de todos ceros de tamaño (len(sequences), dimension)\n",
        "    results = np.zeros((len(sequences), dimension), dtype=np.float32)\n",
        "    for i, sequence in enumerate(sequences):\n",
        "        results[i, sequence] = 1.  # set specific indices of results[i] to 1s\n",
        "    return results\n",
        "\n",
        "train_data = vectorize_sequences(train_data)\n",
        "test_data = vectorize_sequences(test_data)\n",
        "\n",
        "print(train_data.shape) # length is same as before\n",
        "print(train_data[0]) # now, multi-hot encoded\n",
        "\n",
        "# Vectorize the labels as well and reshape from (N, ) to (N, 1)\n",
        "train_labels = np.reshape(np.asarray(train_labels, dtype=np.float32), (len(train_data), 1))\n",
        "test_labels = np.reshape(np.asarray(test_labels, dtype=np.float32), (len(test_data), 1))"
      ],
      "metadata": {
        "colab": {
          "base_uri": "https://localhost:8080/"
        },
        "id": "rQ_V_5nlGx6R",
        "outputId": "e1d3e80d-cc88-45c4-e1d0-6042e65c573f"
      },
      "execution_count": 36,
      "outputs": [
        {
          "output_type": "stream",
          "name": "stdout",
          "text": [
            "(25000, 10000)\n",
            "[0. 1. 1. ... 0. 0. 0.]\n"
          ]
        }
      ]
    },
    {
      "cell_type": "markdown",
      "source": [
        "# Modelo"
      ],
      "metadata": {
        "id": "arHRAvfUIKAj"
      }
    },
    {
      "cell_type": "code",
      "source": [
        "# Create a model\n",
        "model = tf.keras.Sequential()\n",
        "\n",
        " # input shape here is the length of our movie review vector\n",
        "model.add(tf.keras.layers.Dense(16, activation=tf.nn.relu, input_shape=(10000,)))\n",
        "model.add(tf.keras.layers.Dense(16, activation=tf.nn.relu))\n",
        "model.add(tf.keras.layers.Dropout(0.6))\n",
        "model.add(tf.keras.layers.Dense(1, activation=tf.nn.sigmoid))\n",
        "\n",
        "optimizer = tf.keras.optimizers.RMSprop(learning_rate=0.001)\n",
        "\n",
        "model.compile(loss='binary_crossentropy',\n",
        "              optimizer=optimizer,\n",
        "              metrics=['binary_accuracy'])\n",
        "\n",
        "model.summary()"
      ],
      "metadata": {
        "colab": {
          "base_uri": "https://localhost:8080/"
        },
        "id": "2xHxKHj6IK9d",
        "outputId": "daaeab2c-84f5-4c4c-8fa9-64b9135a64d5"
      },
      "execution_count": 59,
      "outputs": [
        {
          "output_type": "stream",
          "name": "stdout",
          "text": [
            "Model: \"sequential_4\"\n",
            "_________________________________________________________________\n",
            " Layer (type)                Output Shape              Param #   \n",
            "=================================================================\n",
            " dense_12 (Dense)            (None, 16)                160016    \n",
            "                                                                 \n",
            " dense_13 (Dense)            (None, 16)                272       \n",
            "                                                                 \n",
            " dropout_2 (Dropout)         (None, 16)                0         \n",
            "                                                                 \n",
            " dense_14 (Dense)            (None, 1)                 17        \n",
            "                                                                 \n",
            "=================================================================\n",
            "Total params: 160305 (626.19 KB)\n",
            "Trainable params: 160305 (626.19 KB)\n",
            "Non-trainable params: 0 (0.00 Byte)\n",
            "_________________________________________________________________\n"
          ]
        }
      ]
    },
    {
      "cell_type": "code",
      "source": [
        "VAL_SIZE = 10000\n",
        "\n",
        "val_data = train_data[:VAL_SIZE]\n",
        "partial_train_data = train_data[VAL_SIZE:]\n",
        "\n",
        "\n",
        "val_labels = train_labels[:VAL_SIZE]\n",
        "partial_train_labels = train_labels[VAL_SIZE:]"
      ],
      "metadata": {
        "id": "4tx0PRi6Ipxo"
      },
      "execution_count": 60,
      "outputs": []
    },
    {
      "cell_type": "code",
      "source": [
        "BATCH_SIZE = 512\n",
        "SHUFFLE_SIZE = 1000\n",
        "\n",
        "training_set = tf.data.Dataset.from_tensor_slices((partial_train_data, partial_train_labels))\n",
        "training_set = training_set.shuffle(SHUFFLE_SIZE).batch(BATCH_SIZE)"
      ],
      "metadata": {
        "id": "kkwyPdJJIav1"
      },
      "execution_count": 61,
      "outputs": []
    },
    {
      "cell_type": "code",
      "source": [
        "EPOCHS = 10\n",
        "\n",
        "# Store list of metric values for plotting later\n",
        "tr_loss_list = []\n",
        "tr_accuracy_list = []\n",
        "val_loss_list = []\n",
        "val_accuracy_list = []\n",
        "\n",
        "for epoch in range(EPOCHS):\n",
        "    for reviews, labels in training_set:\n",
        "        # Calculate training loss and accuracy\n",
        "        tr_loss, tr_accuracy = model.train_on_batch(reviews, labels)\n",
        "\n",
        "    # Calculate validation loss and accuracy\n",
        "    val_loss, val_accuracy = model.evaluate(val_data, val_labels)\n",
        "\n",
        "    # Add to the lists\n",
        "    tr_loss_list.append(tr_loss)\n",
        "    tr_accuracy_list.append(tr_accuracy)\n",
        "    val_loss_list.append(val_loss)\n",
        "    val_accuracy_list.append(val_accuracy)\n",
        "\n",
        "    print(('Epoch #%d\\t Training Loss: %.2f\\tTraining Accuracy: %.2f\\t'\n",
        "           'Validation Loss: %.2f\\tValidation Accuracy: %.2f') % (epoch + 1,\n",
        "                                                                  tr_loss,\n",
        "                                                                  tr_accuracy,\n",
        "                                                                  val_loss,\n",
        "                                                                  val_accuracy))"
      ],
      "metadata": {
        "colab": {
          "base_uri": "https://localhost:8080/"
        },
        "id": "93xY_zCpKm4J",
        "outputId": "8ddd055d-85fc-423f-ffba-8655132ba616"
      },
      "execution_count": 62,
      "outputs": [
        {
          "output_type": "stream",
          "name": "stdout",
          "text": [
            "313/313 [==============================] - 1s 4ms/step - loss: 0.5165 - binary_accuracy: 0.8530\n",
            "Epoch #1\t Training Loss: 0.55\tTraining Accuracy: 0.78\tValidation Loss: 0.52\tValidation Accuracy: 0.85\n",
            "313/313 [==============================] - 1s 2ms/step - loss: 0.3971 - binary_accuracy: 0.8726\n",
            "Epoch #2\t Training Loss: 0.41\tTraining Accuracy: 0.88\tValidation Loss: 0.40\tValidation Accuracy: 0.87\n",
            "313/313 [==============================] - 1s 2ms/step - loss: 0.3311 - binary_accuracy: 0.8820\n",
            "Epoch #3\t Training Loss: 0.33\tTraining Accuracy: 0.89\tValidation Loss: 0.33\tValidation Accuracy: 0.88\n",
            "313/313 [==============================] - 1s 2ms/step - loss: 0.2978 - binary_accuracy: 0.8889\n",
            "Epoch #4\t Training Loss: 0.25\tTraining Accuracy: 0.91\tValidation Loss: 0.30\tValidation Accuracy: 0.89\n",
            "313/313 [==============================] - 1s 3ms/step - loss: 0.2853 - binary_accuracy: 0.8843\n",
            "Epoch #5\t Training Loss: 0.25\tTraining Accuracy: 0.91\tValidation Loss: 0.29\tValidation Accuracy: 0.88\n",
            "313/313 [==============================] - 1s 2ms/step - loss: 0.3068 - binary_accuracy: 0.8746\n",
            "Epoch #6\t Training Loss: 0.30\tTraining Accuracy: 0.90\tValidation Loss: 0.31\tValidation Accuracy: 0.87\n",
            "313/313 [==============================] - 1s 2ms/step - loss: 0.2887 - binary_accuracy: 0.8858\n",
            "Epoch #7\t Training Loss: 0.15\tTraining Accuracy: 0.97\tValidation Loss: 0.29\tValidation Accuracy: 0.89\n",
            "313/313 [==============================] - 1s 3ms/step - loss: 0.2817 - binary_accuracy: 0.8845\n",
            "Epoch #8\t Training Loss: 0.23\tTraining Accuracy: 0.91\tValidation Loss: 0.28\tValidation Accuracy: 0.88\n",
            "313/313 [==============================] - 1s 2ms/step - loss: 0.2939 - binary_accuracy: 0.8803\n",
            "Epoch #9\t Training Loss: 0.26\tTraining Accuracy: 0.93\tValidation Loss: 0.29\tValidation Accuracy: 0.88\n",
            "313/313 [==============================] - 1s 4ms/step - loss: 0.3077 - binary_accuracy: 0.8848\n",
            "Epoch #10\t Training Loss: 0.10\tTraining Accuracy: 0.97\tValidation Loss: 0.31\tValidation Accuracy: 0.88\n"
          ]
        }
      ]
    },
    {
      "cell_type": "code",
      "source": [
        "%matplotlib inline\n",
        "import matplotlib.pyplot as plt\n",
        "\n",
        "epochs = range(1, EPOCHS + 1)\n",
        "\n",
        "# \"bo\" specifies \"blue dot\"\n",
        "plt.plot(epochs, tr_loss_list, 'bo', label='Training loss')\n",
        "# b specifies a \"solid blue line\"\n",
        "plt.plot(epochs, val_loss_list, 'b', label='Validation loss')\n",
        "plt.title('Training and validation loss')\n",
        "plt.xlabel('Epochs')\n",
        "plt.ylabel('Loss')\n",
        "plt.legend()\n",
        "\n",
        "plt.show()"
      ],
      "metadata": {
        "colab": {
          "base_uri": "https://localhost:8080/",
          "height": 472
        },
        "id": "aHGhMMs5K0Ih",
        "outputId": "00c9fa60-776f-405f-86b9-71d3e70a5c3d"
      },
      "execution_count": 63,
      "outputs": [
        {
          "output_type": "display_data",
          "data": {
            "text/plain": [
              "<Figure size 640x480 with 1 Axes>"
            ],
            "image/png": "[encoded data removed]"
          },
          "metadata": {}
        }
      ]
    },
    {
      "cell_type": "code",
      "source": [
        "plt.clf()   # Clear plot\n",
        "\n",
        "plt.plot(epochs, tr_accuracy_list, 'bo', label='Training accuracy')\n",
        "plt.plot(epochs, val_accuracy_list, 'b', label='Validation accuracy')\n",
        "plt.title('Training and validation accuracy')\n",
        "plt.xlabel('Epochs')\n",
        "plt.ylabel('Accuracy')\n",
        "plt.legend()\n",
        "\n",
        "plt.show()"
      ],
      "metadata": {
        "colab": {
          "base_uri": "https://localhost:8080/",
          "height": 472
        },
        "id": "J0LsYAC3LBZH",
        "outputId": "19bfe5ac-1a66-4fe9-9507-a1fc022ef60b"
      },
      "execution_count": 64,
      "outputs": [
        {
          "output_type": "display_data",
          "data": {
            "text/plain": [
              "<Figure size 640x480 with 1 Axes>"
            ],
            "image/png": "[encoded data removed]"
          },
          "metadata": {}
        }
      ]
    },
    {
      "cell_type": "code",
      "source": [
        "loss, accuracy = model.evaluate(test_data, test_labels)\n",
        "print('Test accuracy: %.2f' % (accuracy))"
      ],
      "metadata": {
        "colab": {
          "base_uri": "https://localhost:8080/"
        },
        "id": "S1g7y0mtLG8i",
        "outputId": "9ad24558-7c60-418d-fefe-bf60a71a1876"
      },
      "execution_count": 65,
      "outputs": [
        {
          "output_type": "stream",
          "name": "stdout",
          "text": [
            "782/782 [==============================] - 2s 3ms/step - loss: 0.3277 - binary_accuracy: 0.8762\n",
            "Test accuracy: 0.88\n"
          ]
        }
      ]
    }
  ]
}