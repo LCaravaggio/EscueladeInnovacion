{
  "nbformat": 4,
  "nbformat_minor": 0,
  "metadata": {
    "colab": {
      "provenance": [],
      "authorship_tag": "ABX9TyNoPvIY2VuJFynKDnvNuYSL",
      "include_colab_link": true
    },
    "kernelspec": {
      "name": "python3",
      "display_name": "Python 3"
    },
    "language_info": {
      "name": "python"
    }
  },
  "cells": [
    {
      "cell_type": "markdown",
      "metadata": {
        "id": "view-in-github",
        "colab_type": "text"
      },
      "source": [
        "<a href=\"https://colab.research.google.com/github/LCaravaggio/EscueladeInnovacion/blob/main/Flask.ipynb\" target=\"_parent\"><img src=\"https://colab.research.google.com/assets/colab-badge.svg\" alt=\"Open In Colab\"/></a>"
      ]
    },
    {
      "cell_type": "markdown",
      "source": [
        "# Acceso al Local Host"
      ],
      "metadata": {
        "id": "Mp02q4NatfQb"
      }
    },
    {
      "cell_type": "code",
      "source": [
        "from google.colab.output import eval_js"
      ],
      "metadata": {
        "id": "jB0V37i0mnce"
      },
      "execution_count": 6,
      "outputs": []
    },
    {
      "cell_type": "code",
      "source": [
        "print(eval_js(\"google.colab.kernel.proxyPort(5000)\"))"
      ],
      "metadata": {
        "colab": {
          "base_uri": "https://localhost:8080/",
          "height": 34
        },
        "id": "o_CjfOA1muZI",
        "outputId": "4d5a2c11-d840-4e5a-85db-ed2d8766891a"
      },
      "execution_count": 8,
      "outputs": [
        {
          "output_type": "stream",
          "name": "stdout",
          "text": [
            "https://fvpveh4qybi-496ff2e9c6d22116-5000-colab.googleusercontent.com/\n"
          ]
        }
      ]
    },
    {
      "cell_type": "markdown",
      "source": [
        "# Flask API"
      ],
      "metadata": {
        "id": "hJxD5DjWtj-x"
      }
    },
    {
      "cell_type": "code",
      "source": [
        "from flask import Flask\n",
        "\n",
        "app = Flask(__name__)\n",
        "\n",
        "@app.route(\"/\")\n",
        "def hola():\n",
        "    return \"Hola! Esto es una página web usando Flask desde Colab\"\n",
        "\n",
        "if __name__ == '__main__':\n",
        "    app.run(port = 5000)"
      ],
      "metadata": {
        "colab": {
          "base_uri": "https://localhost:8080/"
        },
        "id": "shgySMVsfmw2",
        "outputId": "640bf5be-7c84-49b8-9645-efb8d3a3ac1f"
      },
      "execution_count": 45,
      "outputs": [
        {
          "output_type": "stream",
          "name": "stdout",
          "text": [
            " * Serving Flask app '__main__'\n",
            " * Debug mode: off\n"
          ]
        },
        {
          "output_type": "stream",
          "name": "stderr",
          "text": [
            "INFO:werkzeug:\u001b[31m\u001b[1mWARNING: This is a development server. Do not use it in a production deployment. Use a production WSGI server instead.\u001b[0m\n",
            " * Running on http://127.0.0.1:5000\n",
            "INFO:werkzeug:\u001b[33mPress CTRL+C to quit\u001b[0m\n",
            "INFO:werkzeug:127.0.0.1 - - [26/Apr/2024 18:53:36] \"GET / HTTP/1.1\" 200 -\n",
            "INFO:werkzeug:127.0.0.1 - - [26/Apr/2024 18:53:36] \"\u001b[33mGET /favicon.ico HTTP/1.1\u001b[0m\" 404 -\n"
          ]
        }
      ]
    },
    {
      "cell_type": "markdown",
      "source": [
        "# Subcarpeta"
      ],
      "metadata": {
        "id": "3VqCiie_toF4"
      }
    },
    {
      "cell_type": "code",
      "source": [
        "app = Flask(__name__)\n",
        "\n",
        "@app.route(\"/\")\n",
        "def hola():\n",
        "    return \"Hola! Esto es una página web usando Flask desde Colab\"\n",
        "\n",
        "@app.route(\"/sub\")\n",
        "def sub():\n",
        "    return \"Esta es una subcarpeta\"\n",
        "\n",
        "if __name__ == '__main__':\n",
        "    app.run(port = 5000)"
      ],
      "metadata": {
        "colab": {
          "base_uri": "https://localhost:8080/"
        },
        "id": "v48MnAyfn8yp",
        "outputId": "89b9a150-2498-43e5-f081-294fecab6b93"
      },
      "execution_count": 43,
      "outputs": [
        {
          "output_type": "stream",
          "name": "stdout",
          "text": [
            " * Serving Flask app '__main__'\n",
            " * Debug mode: off\n"
          ]
        },
        {
          "output_type": "stream",
          "name": "stderr",
          "text": [
            "INFO:werkzeug:\u001b[31m\u001b[1mWARNING: This is a development server. Do not use it in a production deployment. Use a production WSGI server instead.\u001b[0m\n",
            " * Running on http://127.0.0.1:5000\n",
            "INFO:werkzeug:\u001b[33mPress CTRL+C to quit\u001b[0m\n"
          ]
        }
      ]
    },
    {
      "cell_type": "markdown",
      "source": [
        "# Query"
      ],
      "metadata": {
        "id": "JqOI7CYKts17"
      }
    },
    {
      "cell_type": "code",
      "source": [
        "app = Flask(__name__)\n",
        "\n",
        "@app.route(\"/\")\n",
        "def hola():\n",
        "    return \"Hola! Esto es una página web usando Flask desde Colab\"\n",
        "\n",
        "@app.route(\"/sub\")\n",
        "def sub():\n",
        "    return \"Esta es una subcarpeta\"\n",
        "\n",
        "@app.route(\"/suma/<query>\")\n",
        "def accion(query=None):\n",
        "    try:\n",
        "      return \"Le sumamos 10 al número ingresado: \" + str(int(query)+10)\n",
        "    except ValueError:\n",
        "      return \"Debe ingresar un número\"\n",
        "\n",
        "\n",
        "if __name__ == '__main__':\n",
        "    app.run(port = 5000)"
      ],
      "metadata": {
        "colab": {
          "base_uri": "https://localhost:8080/"
        },
        "id": "v954By4gtY9M",
        "outputId": "033670e1-63fb-4747-f969-480dccb01b26"
      },
      "execution_count": 42,
      "outputs": [
        {
          "output_type": "stream",
          "name": "stdout",
          "text": [
            " * Serving Flask app '__main__'\n",
            " * Debug mode: off\n"
          ]
        },
        {
          "output_type": "stream",
          "name": "stderr",
          "text": [
            "INFO:werkzeug:\u001b[31m\u001b[1mWARNING: This is a development server. Do not use it in a production deployment. Use a production WSGI server instead.\u001b[0m\n",
            " * Running on http://127.0.0.1:5000\n",
            "INFO:werkzeug:\u001b[33mPress CTRL+C to quit\u001b[0m\n"
          ]
        }
      ]
    }
  ]
}